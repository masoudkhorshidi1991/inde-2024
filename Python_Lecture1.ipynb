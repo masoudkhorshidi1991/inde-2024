{
 "cells": [
  {
   "cell_type": "code",
   "execution_count": 38,
   "metadata": {},
   "outputs": [
    {
     "name": "stdout",
     "output_type": "stream",
     "text": [
      "[1, 2, 3, 4, 5]\n",
      "khorshidi\n",
      "[2, 3]\n",
      "['b', 'c', 'd']\n",
      "\n",
      "x before applying the append method: [10, 2, 9, 7] \n",
      "\n",
      "x after applying the append method: None \n",
      "\n",
      "x before applying the append method: [10, 2, 9, 7] \n",
      "\n",
      "x after applying the append method ON y: [10, 2, 9, 7] \n",
      "\n",
      "sample_list before applying the sort method: [10, 2, 9, 7, 11, 23, 67, 89, 53] \n",
      "\n",
      "sample_list after applying the sort method: [89, 67, 53, 23, 11, 10, 9, 7, 2] \n",
      "\n",
      "['a', 'b', 'c', 'd', 1, 2, 3, 4, 5]\n",
      "John Pearson\n",
      "\n",
      "Jane Michel\n",
      "\n",
      "{'first_name': 'Jane', 'last_name': 'Mitchel', 'age': 36, 'salary': 90000}\n"
     ]
    },
    {
     "ename": "NameError",
     "evalue": "name 'Database' is not defined",
     "output_type": "error",
     "traceback": [
      "\u001b[0;31m---------------------------------------------------------------------------\u001b[0m",
      "\u001b[0;31mNameError\u001b[0m                                 Traceback (most recent call last)",
      "Cell \u001b[0;32mIn[38], line 58\u001b[0m\n\u001b[1;32m     55\u001b[0m        \u001b[38;5;28mprint\u001b[39m()\n\u001b[1;32m     57\u001b[0m \u001b[38;5;28mprint\u001b[39m(employee_data[\u001b[38;5;124m\"\u001b[39m\u001b[38;5;124mJane Michel\u001b[39m\u001b[38;5;124m\"\u001b[39m])\n\u001b[0;32m---> 58\u001b[0m db \u001b[38;5;241m=\u001b[39m \u001b[43mDatabase\u001b[49m(employee_data)\n",
      "\u001b[0;31mNameError\u001b[0m: name 'Database' is not defined"
     ]
    }
   ],
   "source": [
    "age=34\n",
    "num_list=[1,2,3,4,5]\n",
    "print(num_list)\n",
    "last_name=\"khorshidi\"\n",
    "print(last_name) \n",
    "print(num_list[1:3])\n",
    "sample_list=[\"a\",\"b\",\"c\",\"d\",\"e\"]\n",
    "print(sample_list[1:4])\n",
    "\n",
    "\n",
    "x=[10,2,9,7]\n",
    "print()\n",
    "\n",
    "\n",
    "x = [10, 2, 9, 7]\n",
    "print(f\"x before applying the append method: {x} \\n\")\n",
    "x = x.append(\"apple\")\n",
    "print(f\"x after applying the append method: {x} \\n\")\n",
    "x = [10, 2, 9, 7]\n",
    "y = x.copy()\n",
    "print(f\"x before applying the append method: {x} \\n\")\n",
    "y.append(\"apple\")\n",
    "print(f\"x after applying the append method ON y: {x} \\n\")\n",
    "sample_list = [10, 2, 9, 7,11,23,67,89,53]\n",
    "print(f\"sample_list before applying the sort method: {sample_list} \\n\")\n",
    "sample_list.sort(reverse=True)\n",
    "print(f\"sample_list after applying the sort method: {sample_list} \\n\")\n",
    "a = [1, 2, 3, 4, 5]\n",
    "b = [\"a\", \"b\", \"c\", \"d\"]\n",
    "\n",
    "b.extend(a)\n",
    "print(b)\n",
    "data=[\"a\",\"b\",\"b\",\"c\",\"d\",\"d\",\"a\",\"a\",\"c\",\"b\"]\n",
    "new_data=list(set(data))\n",
    "data.sort(reverse=True, key=lambda x:data.count(x))\n",
    "new_data\n",
    "john_data={\n",
    "    \"first_name\":\"John\",\n",
    "    \"last_name\":\"Pearson\",\n",
    "    \"age\":34,\n",
    "    \"salary\":100_000,\n",
    "}\n",
    "Jane_data={\n",
    "    \"first_name\":\"Jane\",\n",
    "    \"last_name\":\"Mitchel\",\n",
    "    \"age\":36,\n",
    "    \"salary\":90_000,\n",
    "}\n",
    "employee_data={\n",
    "    \"John Pearson\": john_data,\n",
    "    \"Jane Michel\": Jane_data\n",
    "}\n",
    "for key in employee_data:\n",
    "       print(key)\n",
    "       print()\n",
    "       \n",
    "print(employee_data[\"Jane Michel\"])\n",
    "db = Database(employee_data)"
   ]
  }
 ],
 "metadata": {
  "kernelspec": {
   "display_name": "Python 3",
   "language": "python",
   "name": "python3"
  },
  "language_info": {
   "codemirror_mode": {
    "name": "ipython",
    "version": 3
   },
   "file_extension": ".py",
   "mimetype": "text/x-python",
   "name": "python",
   "nbconvert_exporter": "python",
   "pygments_lexer": "ipython3",
   "version": "3.9.6"
  }
 },
 "nbformat": 4,
 "nbformat_minor": 2
}
